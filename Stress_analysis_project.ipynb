{
  "nbformat": 4,
  "nbformat_minor": 0,
  "metadata": {
    "colab": {
      "provenance": [],
      "authorship_tag": "ABX9TyMz2Wl6pUZ3HvnH46jD93zb",
      "include_colab_link": true
    },
    "kernelspec": {
      "name": "python3",
      "display_name": "Python 3"
    },
    "language_info": {
      "name": "python"
    }
  },
  "cells": [
    {
      "cell_type": "markdown",
      "metadata": {
        "id": "view-in-github",
        "colab_type": "text"
      },
      "source": [
        "<a href=\"https://colab.research.google.com/github/HarivigneshD/HTML_webpage/blob/main/Stress_analysis_project.ipynb\" target=\"_parent\"><img src=\"https://colab.research.google.com/assets/colab-badge.svg\" alt=\"Open In Colab\"/></a>"
      ]
    },
    {
      "cell_type": "markdown",
      "source": [
        "# LOW-PASS"
      ],
      "metadata": {
        "id": "_dlmoCK1K1aM"
      }
    },
    {
      "cell_type": "code",
      "execution_count": 4,
      "metadata": {
        "id": "lbPE0y2iI75b"
      },
      "outputs": [],
      "source": [
        "import numpy as np\n",
        "import pandas as pd\n",
        "import matplotlib.pyplot as plt"
      ]
    },
    {
      "cell_type": "code",
      "source": [
        "df = pd.read_csv('/p2l.csv')\n",
        "df.head(10)"
      ],
      "metadata": {
        "colab": {
          "base_uri": "https://localhost:8080/",
          "height": 362
        },
        "id": "DxUpk6eqK5y7",
        "outputId": "2accd6dc-a990-4b16-cb15-c8520d027b25"
      },
      "execution_count": 7,
      "outputs": [
        {
          "output_type": "execute_result",
          "data": {
            "text/plain": [
              "   Trial 1:0back  Trial 6:0back\n",
              "0         32.862         34.755\n",
              "1         32.839         34.676\n",
              "2         32.838         34.597\n",
              "3         32.861         34.517\n",
              "4         32.910         34.436\n",
              "5         32.985         34.356\n",
              "6         33.086         34.275\n",
              "7         33.211         34.195\n",
              "8         33.358         34.115\n",
              "9         33.523         34.037"
            ],
            "text/html": [
              "\n",
              "  <div id=\"df-047094fe-3afe-487b-bec6-edf45e1b25d9\" class=\"colab-df-container\">\n",
              "    <div>\n",
              "<style scoped>\n",
              "    .dataframe tbody tr th:only-of-type {\n",
              "        vertical-align: middle;\n",
              "    }\n",
              "\n",
              "    .dataframe tbody tr th {\n",
              "        vertical-align: top;\n",
              "    }\n",
              "\n",
              "    .dataframe thead th {\n",
              "        text-align: right;\n",
              "    }\n",
              "</style>\n",
              "<table border=\"1\" class=\"dataframe\">\n",
              "  <thead>\n",
              "    <tr style=\"text-align: right;\">\n",
              "      <th></th>\n",
              "      <th>Trial 1:0back</th>\n",
              "      <th>Trial 6:0back</th>\n",
              "    </tr>\n",
              "  </thead>\n",
              "  <tbody>\n",
              "    <tr>\n",
              "      <th>0</th>\n",
              "      <td>32.862</td>\n",
              "      <td>34.755</td>\n",
              "    </tr>\n",
              "    <tr>\n",
              "      <th>1</th>\n",
              "      <td>32.839</td>\n",
              "      <td>34.676</td>\n",
              "    </tr>\n",
              "    <tr>\n",
              "      <th>2</th>\n",
              "      <td>32.838</td>\n",
              "      <td>34.597</td>\n",
              "    </tr>\n",
              "    <tr>\n",
              "      <th>3</th>\n",
              "      <td>32.861</td>\n",
              "      <td>34.517</td>\n",
              "    </tr>\n",
              "    <tr>\n",
              "      <th>4</th>\n",
              "      <td>32.910</td>\n",
              "      <td>34.436</td>\n",
              "    </tr>\n",
              "    <tr>\n",
              "      <th>5</th>\n",
              "      <td>32.985</td>\n",
              "      <td>34.356</td>\n",
              "    </tr>\n",
              "    <tr>\n",
              "      <th>6</th>\n",
              "      <td>33.086</td>\n",
              "      <td>34.275</td>\n",
              "    </tr>\n",
              "    <tr>\n",
              "      <th>7</th>\n",
              "      <td>33.211</td>\n",
              "      <td>34.195</td>\n",
              "    </tr>\n",
              "    <tr>\n",
              "      <th>8</th>\n",
              "      <td>33.358</td>\n",
              "      <td>34.115</td>\n",
              "    </tr>\n",
              "    <tr>\n",
              "      <th>9</th>\n",
              "      <td>33.523</td>\n",
              "      <td>34.037</td>\n",
              "    </tr>\n",
              "  </tbody>\n",
              "</table>\n",
              "</div>\n",
              "    <div class=\"colab-df-buttons\">\n",
              "\n",
              "  <div class=\"colab-df-container\">\n",
              "    <button class=\"colab-df-convert\" onclick=\"convertToInteractive('df-047094fe-3afe-487b-bec6-edf45e1b25d9')\"\n",
              "            title=\"Convert this dataframe to an interactive table.\"\n",
              "            style=\"display:none;\">\n",
              "\n",
              "  <svg xmlns=\"http://www.w3.org/2000/svg\" height=\"24px\" viewBox=\"0 -960 960 960\">\n",
              "    <path d=\"M120-120v-720h720v720H120Zm60-500h600v-160H180v160Zm220 220h160v-160H400v160Zm0 220h160v-160H400v160ZM180-400h160v-160H180v160Zm440 0h160v-160H620v160ZM180-180h160v-160H180v160Zm440 0h160v-160H620v160Z\"/>\n",
              "  </svg>\n",
              "    </button>\n",
              "\n",
              "  <style>\n",
              "    .colab-df-container {\n",
              "      display:flex;\n",
              "      gap: 12px;\n",
              "    }\n",
              "\n",
              "    .colab-df-convert {\n",
              "      background-color: #E8F0FE;\n",
              "      border: none;\n",
              "      border-radius: 50%;\n",
              "      cursor: pointer;\n",
              "      display: none;\n",
              "      fill: #1967D2;\n",
              "      height: 32px;\n",
              "      padding: 0 0 0 0;\n",
              "      width: 32px;\n",
              "    }\n",
              "\n",
              "    .colab-df-convert:hover {\n",
              "      background-color: #E2EBFA;\n",
              "      box-shadow: 0px 1px 2px rgba(60, 64, 67, 0.3), 0px 1px 3px 1px rgba(60, 64, 67, 0.15);\n",
              "      fill: #174EA6;\n",
              "    }\n",
              "\n",
              "    .colab-df-buttons div {\n",
              "      margin-bottom: 4px;\n",
              "    }\n",
              "\n",
              "    [theme=dark] .colab-df-convert {\n",
              "      background-color: #3B4455;\n",
              "      fill: #D2E3FC;\n",
              "    }\n",
              "\n",
              "    [theme=dark] .colab-df-convert:hover {\n",
              "      background-color: #434B5C;\n",
              "      box-shadow: 0px 1px 3px 1px rgba(0, 0, 0, 0.15);\n",
              "      filter: drop-shadow(0px 1px 2px rgba(0, 0, 0, 0.3));\n",
              "      fill: #FFFFFF;\n",
              "    }\n",
              "  </style>\n",
              "\n",
              "    <script>\n",
              "      const buttonEl =\n",
              "        document.querySelector('#df-047094fe-3afe-487b-bec6-edf45e1b25d9 button.colab-df-convert');\n",
              "      buttonEl.style.display =\n",
              "        google.colab.kernel.accessAllowed ? 'block' : 'none';\n",
              "\n",
              "      async function convertToInteractive(key) {\n",
              "        const element = document.querySelector('#df-047094fe-3afe-487b-bec6-edf45e1b25d9');\n",
              "        const dataTable =\n",
              "          await google.colab.kernel.invokeFunction('convertToInteractive',\n",
              "                                                    [key], {});\n",
              "        if (!dataTable) return;\n",
              "\n",
              "        const docLinkHtml = 'Like what you see? Visit the ' +\n",
              "          '<a target=\"_blank\" href=https://colab.research.google.com/notebooks/data_table.ipynb>data table notebook</a>'\n",
              "          + ' to learn more about interactive tables.';\n",
              "        element.innerHTML = '';\n",
              "        dataTable['output_type'] = 'display_data';\n",
              "        await google.colab.output.renderOutput(dataTable, element);\n",
              "        const docLink = document.createElement('div');\n",
              "        docLink.innerHTML = docLinkHtml;\n",
              "        element.appendChild(docLink);\n",
              "      }\n",
              "    </script>\n",
              "  </div>\n",
              "\n",
              "\n",
              "    <div id=\"df-9c51052a-c746-428a-8560-831ba60b49b5\">\n",
              "      <button class=\"colab-df-quickchart\" onclick=\"quickchart('df-9c51052a-c746-428a-8560-831ba60b49b5')\"\n",
              "                title=\"Suggest charts\"\n",
              "                style=\"display:none;\">\n",
              "\n",
              "<svg xmlns=\"http://www.w3.org/2000/svg\" height=\"24px\"viewBox=\"0 0 24 24\"\n",
              "     width=\"24px\">\n",
              "    <g>\n",
              "        <path d=\"M19 3H5c-1.1 0-2 .9-2 2v14c0 1.1.9 2 2 2h14c1.1 0 2-.9 2-2V5c0-1.1-.9-2-2-2zM9 17H7v-7h2v7zm4 0h-2V7h2v10zm4 0h-2v-4h2v4z\"/>\n",
              "    </g>\n",
              "</svg>\n",
              "      </button>\n",
              "\n",
              "<style>\n",
              "  .colab-df-quickchart {\n",
              "      --bg-color: #E8F0FE;\n",
              "      --fill-color: #1967D2;\n",
              "      --hover-bg-color: #E2EBFA;\n",
              "      --hover-fill-color: #174EA6;\n",
              "      --disabled-fill-color: #AAA;\n",
              "      --disabled-bg-color: #DDD;\n",
              "  }\n",
              "\n",
              "  [theme=dark] .colab-df-quickchart {\n",
              "      --bg-color: #3B4455;\n",
              "      --fill-color: #D2E3FC;\n",
              "      --hover-bg-color: #434B5C;\n",
              "      --hover-fill-color: #FFFFFF;\n",
              "      --disabled-bg-color: #3B4455;\n",
              "      --disabled-fill-color: #666;\n",
              "  }\n",
              "\n",
              "  .colab-df-quickchart {\n",
              "    background-color: var(--bg-color);\n",
              "    border: none;\n",
              "    border-radius: 50%;\n",
              "    cursor: pointer;\n",
              "    display: none;\n",
              "    fill: var(--fill-color);\n",
              "    height: 32px;\n",
              "    padding: 0;\n",
              "    width: 32px;\n",
              "  }\n",
              "\n",
              "  .colab-df-quickchart:hover {\n",
              "    background-color: var(--hover-bg-color);\n",
              "    box-shadow: 0 1px 2px rgba(60, 64, 67, 0.3), 0 1px 3px 1px rgba(60, 64, 67, 0.15);\n",
              "    fill: var(--button-hover-fill-color);\n",
              "  }\n",
              "\n",
              "  .colab-df-quickchart-complete:disabled,\n",
              "  .colab-df-quickchart-complete:disabled:hover {\n",
              "    background-color: var(--disabled-bg-color);\n",
              "    fill: var(--disabled-fill-color);\n",
              "    box-shadow: none;\n",
              "  }\n",
              "\n",
              "  .colab-df-spinner {\n",
              "    border: 2px solid var(--fill-color);\n",
              "    border-color: transparent;\n",
              "    border-bottom-color: var(--fill-color);\n",
              "    animation:\n",
              "      spin 1s steps(1) infinite;\n",
              "  }\n",
              "\n",
              "  @keyframes spin {\n",
              "    0% {\n",
              "      border-color: transparent;\n",
              "      border-bottom-color: var(--fill-color);\n",
              "      border-left-color: var(--fill-color);\n",
              "    }\n",
              "    20% {\n",
              "      border-color: transparent;\n",
              "      border-left-color: var(--fill-color);\n",
              "      border-top-color: var(--fill-color);\n",
              "    }\n",
              "    30% {\n",
              "      border-color: transparent;\n",
              "      border-left-color: var(--fill-color);\n",
              "      border-top-color: var(--fill-color);\n",
              "      border-right-color: var(--fill-color);\n",
              "    }\n",
              "    40% {\n",
              "      border-color: transparent;\n",
              "      border-right-color: var(--fill-color);\n",
              "      border-top-color: var(--fill-color);\n",
              "    }\n",
              "    60% {\n",
              "      border-color: transparent;\n",
              "      border-right-color: var(--fill-color);\n",
              "    }\n",
              "    80% {\n",
              "      border-color: transparent;\n",
              "      border-right-color: var(--fill-color);\n",
              "      border-bottom-color: var(--fill-color);\n",
              "    }\n",
              "    90% {\n",
              "      border-color: transparent;\n",
              "      border-bottom-color: var(--fill-color);\n",
              "    }\n",
              "  }\n",
              "</style>\n",
              "\n",
              "      <script>\n",
              "        async function quickchart(key) {\n",
              "          const quickchartButtonEl =\n",
              "            document.querySelector('#' + key + ' button');\n",
              "          quickchartButtonEl.disabled = true;  // To prevent multiple clicks.\n",
              "          quickchartButtonEl.classList.add('colab-df-spinner');\n",
              "          try {\n",
              "            const charts = await google.colab.kernel.invokeFunction(\n",
              "                'suggestCharts', [key], {});\n",
              "          } catch (error) {\n",
              "            console.error('Error during call to suggestCharts:', error);\n",
              "          }\n",
              "          quickchartButtonEl.classList.remove('colab-df-spinner');\n",
              "          quickchartButtonEl.classList.add('colab-df-quickchart-complete');\n",
              "        }\n",
              "        (() => {\n",
              "          let quickchartButtonEl =\n",
              "            document.querySelector('#df-9c51052a-c746-428a-8560-831ba60b49b5 button');\n",
              "          quickchartButtonEl.style.display =\n",
              "            google.colab.kernel.accessAllowed ? 'block' : 'none';\n",
              "        })();\n",
              "      </script>\n",
              "    </div>\n",
              "\n",
              "    </div>\n",
              "  </div>\n"
            ],
            "application/vnd.google.colaboratory.intrinsic+json": {
              "type": "dataframe",
              "variable_name": "df",
              "summary": "{\n  \"name\": \"df\",\n  \"rows\": 76800,\n  \"fields\": [\n    {\n      \"column\": \"Trial 1:0back\",\n      \"properties\": {\n        \"dtype\": \"number\",\n        \"std\": 2.08341184892346,\n        \"min\": 29.25,\n        \"max\": 41.169,\n        \"num_unique_values\": 9721,\n        \"samples\": [\n          35.018,\n          39.416,\n          38.196\n        ],\n        \"semantic_type\": \"\",\n        \"description\": \"\"\n      }\n    },\n    {\n      \"column\": \"Trial 6:0back\",\n      \"properties\": {\n        \"dtype\": \"number\",\n        \"std\": 2.165403264121301,\n        \"min\": 30.467,\n        \"max\": 41.541,\n        \"num_unique_values\": 9769,\n        \"samples\": [\n          37.407,\n          39.526,\n          38.518\n        ],\n        \"semantic_type\": \"\",\n        \"description\": \"\"\n      }\n    }\n  ]\n}"
            }
          },
          "metadata": {},
          "execution_count": 7
        }
      ]
    },
    {
      "cell_type": "code",
      "source": [
        "ppg = df['Trial 1:0back']\n",
        "\n",
        "sampling_rate = 256\n",
        "\n",
        "time = np.arange(len(ppg))/ sampling_rate\n",
        "\n",
        "plt.plot(time, ppg)\n",
        "plt.xlabel('Time')\n",
        "plt.ylabel('PPG')\n",
        "plt.title('PPG Signal')"
      ],
      "metadata": {
        "colab": {
          "base_uri": "https://localhost:8080/",
          "height": 490
        },
        "id": "0_EII955QSfD",
        "outputId": "0e12f180-63c3-4c87-e8e7-0b6cdb07b5b3"
      },
      "execution_count": 8,
      "outputs": [
        {
          "output_type": "execute_result",
          "data": {
            "text/plain": [
              "Text(0.5, 1.0, 'PPG Signal')"
            ]
          },
          "metadata": {},
          "execution_count": 8
        },
        {
          "output_type": "display_data",
          "data": {
            "text/plain": [
              "<Figure size 640x480 with 1 Axes>"
            ],
            "image/png": "[encoded data removed]"
          },
          "metadata": {}
        }
      ]
    },
    {
      "cell_type": "code",
      "source": [
        "ppg = df['Trial 6:0back']\n",
        "\n",
        "sampling_rate = 256\n",
        "\n",
        "time = np.arange(len(ppg))/ sampling_rate\n",
        "\n",
        "plt.plot(time, ppg)\n",
        "plt.xlabel('Time')\n",
        "plt.ylabel('PPG')\n",
        "plt.title('PPG Signal')"
      ],
      "metadata": {
        "colab": {
          "base_uri": "https://localhost:8080/",
          "height": 490
        },
        "id": "TgssslMpQiL4",
        "outputId": "4ab0ca61-9810-4147-bdc6-540d0e7685e1"
      },
      "execution_count": 9,
      "outputs": [
        {
          "output_type": "execute_result",
          "data": {
            "text/plain": [
              "Text(0.5, 1.0, 'PPG Signal')"
            ]
          },
          "metadata": {},
          "execution_count": 9
        },
        {
          "output_type": "display_data",
          "data": {
            "text/plain": [
              "<Figure size 640x480 with 1 Axes>"
            ],
            "image/png": "[encoded data removed]"
          },
          "metadata": {}
        }
      ]
    },
    {
      "cell_type": "markdown",
      "source": [
        "*****Introduction to Empirical Mode Decomposition (EMD)*****"
      ],
      "metadata": {
        "id": "1j919dnCQ4Cp"
      }
    },
    {
      "cell_type": "markdown",
      "source": [
        "### Imagine You’re Listening to a Song 🎵\n",
        "\n",
        "A song usually has:\n",
        "\n",
        "* A **beat** (like drums – fast and repetitive),\n",
        "* A **melody** (like a guitar or singer – smoother),\n",
        "* And maybe some **slow background sounds**.\n",
        "\n",
        "All of this is mixed together in one sound wave.\n",
        "\n",
        "But what if you want to hear each part **separately**?\n",
        "\n",
        "---\n",
        "\n",
        "### EMD Is Like a Magical Ear 👂✨\n",
        "\n",
        "EMD is a **magical tool** that listens to messy, mixed-up signals and **pulls out the different parts**, one by one — from **fastest** to **slowest**.\n",
        "\n",
        "It gives you:\n",
        "\n",
        "1. The **fast wiggly part** (like the beat),\n",
        "2. The **medium part** (like the melody),\n",
        "3. The **slow smooth part** (like background hums).\n",
        "\n",
        "Each part is called an **IMF** (Intrinsic Mode Function) — think of them like layers of the song!\n",
        "\n",
        "---\n",
        "\n",
        "### Why Do We Use It?\n",
        "\n",
        "In real life, signals are messy:\n",
        "\n",
        "* Your heartbeat,\n",
        "* Earthquake waves,\n",
        "* Stock market prices...\n",
        "\n",
        "EMD helps scientists and engineers **break those signals** into smaller, more understandable parts.\n",
        "\n",
        "---\n",
        "\n",
        "### In Short:\n",
        "\n",
        "> **EMD is like peeling an onion 🧅 of sound or data — one layer at a time — to see what's really going on inside!**\n",
        "\n"
      ],
      "metadata": {
        "id": "85cDc9uIQ4zN"
      }
    },
    {
      "cell_type": "code",
      "source": [
        "%%capture\n",
        "!pip install EMD-signal"
      ],
      "metadata": {
        "id": "wlvIiXzNRAMw"
      },
      "execution_count": 11,
      "outputs": []
    },
    {
      "cell_type": "code",
      "source": [
        "import numpy as np\n",
        "import pandas as pd\n",
        "import matplotlib.pyplot as plt\n",
        "import sys\n",
        "from scipy.signal import hilbert\n",
        "from PyEMD import EMD\n",
        "from os import listdir\n",
        "pd.options.display.precision = 10"
      ],
      "metadata": {
        "id": "TVzZ8x4DRGgg"
      },
      "execution_count": 13,
      "outputs": []
    },
    {
      "cell_type": "markdown",
      "source": [
        "\n",
        "```python\n",
        "import numpy as np\n",
        "```\n",
        "\n",
        "🔹 **`numpy`** is used for **math operations** with arrays (like signals).\n",
        "🔸 Example: It helps to handle numbers like your heartbeat signal easily and fast.\n",
        "\n",
        "---\n",
        "\n",
        "```python\n",
        "import pandas as pd\n",
        "```\n",
        "\n",
        "🔹 **`pandas`** is used to **store and organize data** in tables (like Excel).\n",
        "🔸 Useful if you have signals from many people or many time points.\n",
        "\n",
        "---\n",
        "\n",
        "```python\n",
        "import matplotlib.pyplot as plt\n",
        "```\n",
        "\n",
        "🔹 **`matplotlib.pyplot`** is for **drawing graphs**.\n",
        "🔸 Helps you **see** the heartbeat or the IMFs after EMD.\n",
        "\n",
        "---\n",
        "\n",
        "```python\n",
        "import sys\n",
        "```\n",
        "\n",
        "🔹 **`sys`** helps you **control or get info** about the Python system (like reading input files or handling errors).\n",
        "🔸 Example: You might use it to get the file name from the command line.\n",
        "\n",
        "---\n",
        "\n",
        "```python\n",
        "from scipy.signal import hilbert\n",
        "```\n",
        "\n",
        "🔹 **`hilbert`** from `scipy.signal` is used to calculate the **instantaneous phase and amplitude** of signals.\n",
        "🔸 It is often used **after EMD** to analyze how the IMFs behave over time — very helpful in heartbeat analysis!\n",
        "\n",
        "---\n",
        "\n",
        "```python\n",
        "from PyEMD import EMD\n",
        "```\n",
        "\n",
        "🔹 This imports the **main tool**: Empirical Mode Decomposition.\n",
        "🔸 You use `EMD()` to **break your heartbeat signal into IMFs**.\n",
        "\n",
        "---\n",
        "\n",
        "```python\n",
        "from os import listdir\n",
        "```\n",
        "\n",
        "🔹 This lets you **look at files in a folder**.\n",
        "🔸 Example: If you have many ECG files in a folder, `listdir()` helps you loop through all of them and analyze each one.\n",
        "\n",
        "---\n",
        "\n",
        "```python\n",
        "pd.options.display.precision = 10\n",
        "```\n",
        "\n",
        "🔹 This tells pandas to **show up to 10 decimal points** when printing data.\n",
        "🔸 Helpful if you're working with **very tiny numbers** in heartbeat or brain signals.\n",
        "\n",
        "---\n",
        "\n",
        "### Summary:\n",
        "\n",
        "| Line         | Purpose                               |\n",
        "| ------------ | ------------------------------------- |\n",
        "| `numpy`      | Fast math for arrays/signals          |\n",
        "| `pandas`     | Organize and read data                |\n",
        "| `matplotlib` | Plot signals/IMFs                     |\n",
        "| `sys`        | Work with system (e.g., files/inputs) |\n",
        "| `hilbert`    | Analyze signal phase/amplitude        |\n",
        "| `EMD`        | Decompose signal into IMFs            |\n",
        "| `listdir`    | Load multiple data files              |\n",
        "| `precision`  | Show detailed decimal numbers         |\n",
        "\n",
        "---"
      ],
      "metadata": {
        "id": "5umC3RRJRdJw"
      }
    },
    {
      "cell_type": "markdown",
      "source": [
        "EMD on LOW sample"
      ],
      "metadata": {
        "id": "22Z8T_o3Rx8e"
      }
    },
    {
      "cell_type": "code",
      "source": [
        "print(df.head(10))\n",
        "\n",
        "col1 = df['Trial 1:0back'].iloc[0:768] #Selecting column 1 dataframe ['Trial 1:0back'] along with 768 rows\n",
        "S1 = col1.values\n",
        "t = np.arange(len(col1))/ sampling_rate\n",
        "\n",
        "print('S shape: ', S1.shape)\n",
        "print ('T shape: ', t.shape)"
      ],
      "metadata": {
        "colab": {
          "base_uri": "https://localhost:8080/"
        },
        "id": "Kq64ZWRlRVAg",
        "outputId": "709c027d-bcbf-4499-94d4-46925f117bdc"
      },
      "execution_count": 15,
      "outputs": [
        {
          "output_type": "stream",
          "name": "stdout",
          "text": [
            "   Trial 1:0back  Trial 6:0back\n",
            "0         32.862         34.755\n",
            "1         32.839         34.676\n",
            "2         32.838         34.597\n",
            "3         32.861         34.517\n",
            "4         32.910         34.436\n",
            "5         32.985         34.356\n",
            "6         33.086         34.275\n",
            "7         33.211         34.195\n",
            "8         33.358         34.115\n",
            "9         33.523         34.037\n",
            "S shape:  (768,)\n",
            "T shape:  (768,)\n"
          ]
        }
      ]
    },
    {
      "cell_type": "code",
      "source": [
        "# Compute the IMF with EMD\n",
        "config = {'spline_kind': 'cubic', 'max_iteration' : 100}\n",
        "emd = EMD(**config)\n",
        "imfs = emd(S1, max_imf = 7)\n",
        "print('imfs = ' + f'{imfs.shape[0]: 4d}')"
      ],
      "metadata": {
        "colab": {
          "base_uri": "https://localhost:8080/"
        },
        "id": "btHk_1gWRwx4",
        "outputId": "b48168f5-5e72-41f0-ee4c-039a72e341dc"
      },
      "execution_count": 16,
      "outputs": [
        {
          "output_type": "stream",
          "name": "stdout",
          "text": [
            "imfs =    5\n"
          ]
        }
      ]
    },
    {
      "cell_type": "code",
      "source": [],
      "metadata": {
        "id": "Oz1B0pUmR654"
      },
      "execution_count": null,
      "outputs": []
    }
  ]
}